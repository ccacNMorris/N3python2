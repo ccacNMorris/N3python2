{
 "cells": [
  {
   "cell_type": "markdown",
   "metadata": {},
   "source": [
    "# Lambda Expressions\n",
    "\n",
    "## Basics\n",
    "Lambdas do the same work that def functions do but have a few differences:\n",
    "\n",
    "    They are expressions, not statements\n",
    "\n",
    "    Can exist inside a list literal or a function call’s argument\n",
    "\n",
    "    Returned value does not have to be assigned a name\n",
    "\n",
    "    The body is a single expression, not a block of statements\n",
    "\n",
    "    Can type result as an expression instead of explicitly returning\n",
    "\n",
    "    Only good for simple functions, larger tasks should use def\n",
    "\n",
    "\n",
    "Below is a function that will add 3 numbers together:\n",
    "\n"
   ]
  },
  {
   "cell_type": "code",
   "execution_count": null,
   "metadata": {},
   "outputs": [],
   "source": [
    "def func(x, y, z): \n",
    "    return x + y + z\n",
    "\n",
    "func(2, 3, 4)\n"
   ]
  },
  {
   "cell_type": "markdown",
   "metadata": {},
   "source": [
    "Here is the same expression but using a lambda expression instead of a def function:"
   ]
  },
  {
   "cell_type": "code",
   "execution_count": null,
   "metadata": {},
   "outputs": [],
   "source": [
    "f = lambda x, y, z: x + y + z\n",
    "\n",
    "f(2, 3, 4)"
   ]
  },
  {
   "cell_type": "markdown",
   "metadata": {},
   "source": [
    "## Nested \n",
    "Lambdas can be nested as shown in the below code.  Nested lambdas are not the best for readability and are more or less avoided for that reason.\n"
   ]
  },
  {
   "cell_type": "code",
   "execution_count": null,
   "metadata": {},
   "outputs": [],
   "source": [
    "action = (lambda x: (lambda y: x + y))\n",
    "\n",
    "act = action(99)\n",
    "\n",
    "act(3)"
   ]
  },
  {
   "cell_type": "code",
   "execution_count": null,
   "metadata": {},
   "outputs": [],
   "source": [
    "((lambda x: (lambda y: x + y))(99))(4)"
   ]
  },
  {
   "cell_type": "markdown",
   "metadata": {},
   "source": [
    "## Mapping"
   ]
  },
  {
   "cell_type": "markdown",
   "metadata": {},
   "source": [
    "You can use the map function to pass each item of a list (or tuple) into the lambda function."
   ]
  },
  {
   "cell_type": "code",
   "execution_count": null,
   "metadata": {},
   "outputs": [],
   "source": [
    "numbers = [1, 2, 3, 4]\n",
    "\n",
    "list(map(lambda x: x + 5, numbers))"
   ]
  },
  {
   "cell_type": "markdown",
   "metadata": {},
   "source": [
    "## Filtering"
   ]
  },
  {
   "cell_type": "markdown",
   "metadata": {},
   "source": [
    "You can also filter for values in a list."
   ]
  },
  {
   "cell_type": "code",
   "execution_count": null,
   "metadata": {},
   "outputs": [],
   "source": [
    "a = list(filter(lambda x:  x < 3, numbers))\n",
    "b = list(filter(lambda x:  x == max(numbers), numbers))\n",
    "c = list(filter(lambda x:  x == min(numbers), numbers))\n",
    "print(a,b,c)"
   ]
  }
 ],
 "metadata": {
  "kernelspec": {
   "display_name": "Python 3",
   "language": "python",
   "name": "python3"
  },
  "language_info": {
   "codemirror_mode": {
    "name": "ipython",
    "version": 3
   },
   "file_extension": ".py",
   "mimetype": "text/x-python",
   "name": "python",
   "nbconvert_exporter": "python",
   "pygments_lexer": "ipython3",
   "version": "3.7.4"
  }
 },
 "nbformat": 4,
 "nbformat_minor": 2
}
